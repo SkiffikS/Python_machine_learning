{
 "cells": [
  {
   "cell_type": "markdown",
   "id": "6d62adbd",
   "metadata": {},
   "source": [
    "## Імпортуємо модулі, датасет, читаємо датасет та форматумо його"
   ]
  },
  {
   "cell_type": "code",
   "execution_count": 1,
   "id": "ab46c791",
   "metadata": {
    "execution": {
     "iopub.execute_input": "2022-04-10T04:33:19.418815Z",
     "iopub.status.busy": "2022-04-10T04:33:19.416781Z",
     "iopub.status.idle": "2022-04-10T04:33:20.491678Z",
     "shell.execute_reply": "2022-04-10T04:33:20.490835Z",
     "shell.execute_reply.started": "2022-04-10T03:49:59.027804Z"
    },
    "papermill": {
     "duration": 1.11804,
     "end_time": "2022-04-10T04:33:20.491964",
     "exception": false,
     "start_time": "2022-04-10T04:33:19.373924",
     "status": "completed"
    },
    "tags": []
   },
   "outputs": [],
   "source": [
    "# Імпорт необхідних бібліотек\n",
    "import matplotlib.pyplot as plt  # Бібліотека для виводу графіків\n",
    "import numpy as np  # Бібліотека для роботи із матрицями\n",
    "import pandas as pd  # Бібліотека для читання датасету\n",
    "import seaborn as sns  # Бібліотека для візуалізації данних"
   ]
  },
  {
   "cell_type": "code",
   "execution_count": 2,
   "id": "9ffa640b",
   "metadata": {
    "execution": {
     "iopub.execute_input": "2022-04-10T04:33:20.572807Z",
     "iopub.status.busy": "2022-04-10T04:33:20.572046Z",
     "iopub.status.idle": "2022-04-10T04:33:20.606733Z",
     "shell.execute_reply": "2022-04-10T04:33:20.606060Z",
     "shell.execute_reply.started": "2022-04-10T03:50:00.026361Z"
    },
    "papermill": {
     "duration": 0.076828,
     "end_time": "2022-04-10T04:33:20.606874",
     "exception": false,
     "start_time": "2022-04-10T04:33:20.530046",
     "status": "completed"
    },
    "tags": []
   },
   "outputs": [
    {
     "data": {
      "text/html": [
       "<div>\n",
       "<style scoped>\n",
       "    .dataframe tbody tr th:only-of-type {\n",
       "        vertical-align: middle;\n",
       "    }\n",
       "\n",
       "    .dataframe tbody tr th {\n",
       "        vertical-align: top;\n",
       "    }\n",
       "\n",
       "    .dataframe thead th {\n",
       "        text-align: right;\n",
       "    }\n",
       "</style>\n",
       "<table border=\"1\" class=\"dataframe\">\n",
       "  <thead>\n",
       "    <tr style=\"text-align: right;\">\n",
       "      <th></th>\n",
       "      <th>Pregnancies</th>\n",
       "      <th>Glucose</th>\n",
       "      <th>BloodPressure</th>\n",
       "      <th>SkinThickness</th>\n",
       "      <th>Insulin</th>\n",
       "      <th>BMI</th>\n",
       "      <th>DiabetesPedigreeFunction</th>\n",
       "      <th>Age</th>\n",
       "      <th>Outcome</th>\n",
       "    </tr>\n",
       "  </thead>\n",
       "  <tbody>\n",
       "    <tr>\n",
       "      <th>0</th>\n",
       "      <td>6</td>\n",
       "      <td>148</td>\n",
       "      <td>72</td>\n",
       "      <td>35</td>\n",
       "      <td>0</td>\n",
       "      <td>33.6</td>\n",
       "      <td>0.627</td>\n",
       "      <td>50</td>\n",
       "      <td>1</td>\n",
       "    </tr>\n",
       "    <tr>\n",
       "      <th>1</th>\n",
       "      <td>1</td>\n",
       "      <td>85</td>\n",
       "      <td>66</td>\n",
       "      <td>29</td>\n",
       "      <td>0</td>\n",
       "      <td>26.6</td>\n",
       "      <td>0.351</td>\n",
       "      <td>31</td>\n",
       "      <td>0</td>\n",
       "    </tr>\n",
       "    <tr>\n",
       "      <th>2</th>\n",
       "      <td>8</td>\n",
       "      <td>183</td>\n",
       "      <td>64</td>\n",
       "      <td>0</td>\n",
       "      <td>0</td>\n",
       "      <td>23.3</td>\n",
       "      <td>0.672</td>\n",
       "      <td>32</td>\n",
       "      <td>1</td>\n",
       "    </tr>\n",
       "    <tr>\n",
       "      <th>3</th>\n",
       "      <td>1</td>\n",
       "      <td>89</td>\n",
       "      <td>66</td>\n",
       "      <td>23</td>\n",
       "      <td>94</td>\n",
       "      <td>28.1</td>\n",
       "      <td>0.167</td>\n",
       "      <td>21</td>\n",
       "      <td>0</td>\n",
       "    </tr>\n",
       "    <tr>\n",
       "      <th>4</th>\n",
       "      <td>0</td>\n",
       "      <td>137</td>\n",
       "      <td>40</td>\n",
       "      <td>35</td>\n",
       "      <td>168</td>\n",
       "      <td>43.1</td>\n",
       "      <td>2.288</td>\n",
       "      <td>33</td>\n",
       "      <td>1</td>\n",
       "    </tr>\n",
       "  </tbody>\n",
       "</table>\n",
       "</div>"
      ],
      "text/plain": [
       "   Pregnancies  Glucose  BloodPressure  SkinThickness  Insulin   BMI  \\\n",
       "0            6      148             72             35        0  33.6   \n",
       "1            1       85             66             29        0  26.6   \n",
       "2            8      183             64              0        0  23.3   \n",
       "3            1       89             66             23       94  28.1   \n",
       "4            0      137             40             35      168  43.1   \n",
       "\n",
       "   DiabetesPedigreeFunction  Age  Outcome  \n",
       "0                     0.627   50        1  \n",
       "1                     0.351   31        0  \n",
       "2                     0.672   32        1  \n",
       "3                     0.167   21        0  \n",
       "4                     2.288   33        1  "
      ]
     },
     "execution_count": 2,
     "metadata": {},
     "output_type": "execute_result"
    }
   ],
   "source": [
    "# Імпорт датасету\n",
    "df = pd.read_csv('diabetes.csv')  # Читаємо датасет через pandas\n",
    "df.head() # Виводимо верхню інформацію"
   ]
  },
  {
   "cell_type": "code",
   "execution_count": 3,
   "id": "c6562479",
   "metadata": {
    "execution": {
     "iopub.execute_input": "2022-04-10T04:33:20.686566Z",
     "iopub.status.busy": "2022-04-10T04:33:20.685494Z",
     "iopub.status.idle": "2022-04-10T04:33:20.710071Z",
     "shell.execute_reply": "2022-04-10T04:33:20.710829Z",
     "shell.execute_reply.started": "2022-04-10T03:50:00.057398Z"
    },
    "papermill": {
     "duration": 0.067015,
     "end_time": "2022-04-10T04:33:20.711059",
     "exception": false,
     "start_time": "2022-04-10T04:33:20.644044",
     "status": "completed"
    },
    "tags": []
   },
   "outputs": [
    {
     "name": "stdout",
     "output_type": "stream",
     "text": [
      "<class 'pandas.core.frame.DataFrame'>\n",
      "RangeIndex: 768 entries, 0 to 767\n",
      "Data columns (total 9 columns):\n",
      " #   Column                    Non-Null Count  Dtype  \n",
      "---  ------                    --------------  -----  \n",
      " 0   Pregnancies               768 non-null    int64  \n",
      " 1   Glucose                   768 non-null    int64  \n",
      " 2   BloodPressure             768 non-null    int64  \n",
      " 3   SkinThickness             768 non-null    int64  \n",
      " 4   Insulin                   768 non-null    int64  \n",
      " 5   BMI                       768 non-null    float64\n",
      " 6   DiabetesPedigreeFunction  768 non-null    float64\n",
      " 7   Age                       768 non-null    int64  \n",
      " 8   Outcome                   768 non-null    int64  \n",
      "dtypes: float64(2), int64(7)\n",
      "memory usage: 54.1 KB\n"
     ]
    }
   ],
   "source": [
    "df.info() # Виводимо інформацію по колонках"
   ]
  },
  {
   "cell_type": "code",
   "execution_count": 4,
   "id": "b78229e6",
   "metadata": {
    "execution": {
     "iopub.execute_input": "2022-04-10T04:33:20.799779Z",
     "iopub.status.busy": "2022-04-10T04:33:20.798670Z",
     "iopub.status.idle": "2022-04-10T04:33:20.807233Z",
     "shell.execute_reply": "2022-04-10T04:33:20.806681Z",
     "shell.execute_reply.started": "2022-04-10T03:50:00.080742Z"
    },
    "papermill": {
     "duration": 0.054955,
     "end_time": "2022-04-10T04:33:20.807381",
     "exception": false,
     "start_time": "2022-04-10T04:33:20.752426",
     "status": "completed"
    },
    "tags": []
   },
   "outputs": [],
   "source": [
    "df_nomiss = df[(df['Glucose']!=0) & (df['BloodPressure']!=0) & (df['SkinThickness']!=0)  & (df['Insulin']!=0) & (df['BMI']!=0)]\n",
    "df_miss = df[(df['Glucose']==0) | (df['BloodPressure']==0) | (df['SkinThickness']==0)  | (df['Insulin']==0) | (df['BMI']==0)] # Сортуємо данні у змінні"
   ]
  },
  {
   "cell_type": "code",
   "execution_count": 5,
   "id": "84735f8b",
   "metadata": {
    "execution": {
     "iopub.execute_input": "2022-04-10T04:33:20.892443Z",
     "iopub.status.busy": "2022-04-10T04:33:20.891415Z",
     "iopub.status.idle": "2022-04-10T04:33:20.893963Z",
     "shell.execute_reply": "2022-04-10T04:33:20.894434Z",
     "shell.execute_reply.started": "2022-04-10T03:50:00.094426Z"
    },
    "papermill": {
     "duration": 0.047249,
     "end_time": "2022-04-10T04:33:20.894593",
     "exception": false,
     "start_time": "2022-04-10T04:33:20.847344",
     "status": "completed"
    },
    "tags": []
   },
   "outputs": [],
   "source": [
    "X_nomiss = df_nomiss.drop('Outcome',axis=1)\n",
    "y_nomiss = df_nomiss['Outcome'] # Сортуємо данні по колонках та рядках"
   ]
  },
  {
   "cell_type": "code",
   "execution_count": 6,
   "id": "6afcc309",
   "metadata": {
    "execution": {
     "iopub.execute_input": "2022-04-10T04:33:20.980292Z",
     "iopub.status.busy": "2022-04-10T04:33:20.979297Z",
     "iopub.status.idle": "2022-04-10T04:33:21.193356Z",
     "shell.execute_reply": "2022-04-10T04:33:21.192623Z",
     "shell.execute_reply.started": "2022-04-10T03:50:00.100872Z"
    },
    "papermill": {
     "duration": 0.259889,
     "end_time": "2022-04-10T04:33:21.193502",
     "exception": false,
     "start_time": "2022-04-10T04:33:20.933613",
     "status": "completed"
    },
    "tags": []
   },
   "outputs": [
    {
     "data": {
      "text/plain": [
       "<AxesSubplot:xlabel='Outcome', ylabel='count'>"
      ]
     },
     "execution_count": 6,
     "metadata": {},
     "output_type": "execute_result"
    },
    {
     "data": {
      "image/png": "[encoded data removed]",
      "text/plain": [
       "<Figure size 640x480 with 1 Axes>"
      ]
     },
     "metadata": {},
     "output_type": "display_data"
    }
   ],
   "source": [
    "sns.countplot(x=\"Outcome\", data=df_nomiss) # Демонструємо значення"
   ]
  },
  {
   "cell_type": "markdown",
   "id": "cd1b53a3",
   "metadata": {},
   "source": [
    "# Починаємо створювати модель"
   ]
  },
  {
   "cell_type": "code",
   "execution_count": 7,
   "id": "c3d246d2",
   "metadata": {
    "execution": {
     "iopub.execute_input": "2022-04-10T04:33:21.282190Z",
     "iopub.status.busy": "2022-04-10T04:33:21.280426Z",
     "iopub.status.idle": "2022-04-10T04:33:21.451397Z",
     "shell.execute_reply": "2022-04-10T04:33:21.450807Z",
     "shell.execute_reply.started": "2022-04-10T03:50:00.284307Z"
    },
    "papermill": {
     "duration": 0.216392,
     "end_time": "2022-04-10T04:33:21.451530",
     "exception": false,
     "start_time": "2022-04-10T04:33:21.235138",
     "status": "completed"
    },
    "tags": []
   },
   "outputs": [],
   "source": [
    "from sklearn.model_selection import train_test_split # Бібліотека для нейронної мережі\n",
    "X_train_nomiss,X_test_nomiss,y_train_nomiss,y_test_nomiss =  train_test_split(X_nomiss,y_nomiss,test_size=0.20, random_state=7,stratify=y_nomiss) # Параметри моделі"
   ]
  },
  {
   "cell_type": "code",
   "execution_count": 8,
   "id": "8dcf2b6b",
   "metadata": {
    "execution": {
     "iopub.execute_input": "2022-04-10T04:33:21.538057Z",
     "iopub.status.busy": "2022-04-10T04:33:21.537225Z",
     "iopub.status.idle": "2022-04-10T04:33:21.541285Z",
     "shell.execute_reply": "2022-04-10T04:33:21.540558Z",
     "shell.execute_reply.started": "2022-04-10T03:50:00.447012Z"
    },
    "papermill": {
     "duration": 0.0499,
     "end_time": "2022-04-10T04:33:21.541405",
     "exception": false,
     "start_time": "2022-04-10T04:33:21.491505",
     "status": "completed"
    },
    "tags": []
   },
   "outputs": [],
   "source": [
    "df_train_nomiss = pd.concat([X_train_nomiss,y_train_nomiss], axis=1) # Згруповуємо дані"
   ]
  },
  {
   "cell_type": "code",
   "execution_count": 9,
   "id": "e56e87a4",
   "metadata": {
    "execution": {
     "iopub.execute_input": "2022-04-10T04:33:21.630485Z",
     "iopub.status.busy": "2022-04-10T04:33:21.629458Z",
     "iopub.status.idle": "2022-04-10T04:33:21.632604Z",
     "shell.execute_reply": "2022-04-10T04:33:21.632114Z",
     "shell.execute_reply.started": "2022-04-10T03:50:00.454462Z"
    },
    "papermill": {
     "duration": 0.048048,
     "end_time": "2022-04-10T04:33:21.632726",
     "exception": false,
     "start_time": "2022-04-10T04:33:21.584678",
     "status": "completed"
    },
    "tags": []
   },
   "outputs": [],
   "source": [
    "df_train = pd.concat([df_train_nomiss,df_miss], axis=0) # Згруповуємо дані"
   ]
  },
  {
   "cell_type": "code",
   "execution_count": 10,
   "id": "d143b083",
   "metadata": {
    "execution": {
     "iopub.execute_input": "2022-04-10T04:33:21.725517Z",
     "iopub.status.busy": "2022-04-10T04:33:21.723702Z",
     "iopub.status.idle": "2022-04-10T04:33:21.749737Z",
     "shell.execute_reply": "2022-04-10T04:33:21.750182Z",
     "shell.execute_reply.started": "2022-04-10T03:50:00.466888Z"
    },
    "papermill": {
     "duration": 0.07718,
     "end_time": "2022-04-10T04:33:21.750361",
     "exception": false,
     "start_time": "2022-04-10T04:33:21.673181",
     "status": "completed"
    },
    "tags": []
   },
   "outputs": [],
   "source": [
    "ms_col = ['Glucose','BloodPressure','SkinThickness','Insulin','BMI'] # Вибираємо необхідні колонки\n",
    "for i in ms_col: # Проходимось по кожній колонці\n",
    "    df_train.loc[((df_train['Outcome'] == 0) & (df_train[i] == 0)), i] =  df_train[(df_train['Outcome']==0) & (df_train[i]!=0)][i].median() \n",
    "    df_train.loc[((df_train['Outcome'] == 1) & (df_train[i] == 0)), i] =  df_train[(df_train['Outcome']==1) & (df_train[i]!=0)][i].median() # Додаємо у мережу"
   ]
  },
  {
   "cell_type": "code",
   "execution_count": 11,
   "id": "76e59a93",
   "metadata": {
    "execution": {
     "iopub.execute_input": "2022-04-10T04:33:21.838055Z",
     "iopub.status.busy": "2022-04-10T04:33:21.835928Z",
     "iopub.status.idle": "2022-04-10T04:33:21.838867Z",
     "shell.execute_reply": "2022-04-10T04:33:21.839450Z",
     "shell.execute_reply.started": "2022-04-10T03:50:00.495617Z"
    },
    "papermill": {
     "duration": 0.049687,
     "end_time": "2022-04-10T04:33:21.839581",
     "exception": false,
     "start_time": "2022-04-10T04:33:21.789894",
     "status": "completed"
    },
    "tags": []
   },
   "outputs": [],
   "source": [
    "X = df_train.drop('Outcome', axis=1)  # Видаляємо Outcome\n",
    "y=df_train['Outcome']"
   ]
  },
  {
   "cell_type": "code",
   "execution_count": 12,
   "id": "acc38baa",
   "metadata": {
    "execution": {
     "iopub.execute_input": "2022-04-10T04:33:21.924917Z",
     "iopub.status.busy": "2022-04-10T04:33:21.924128Z",
     "iopub.status.idle": "2022-04-10T04:33:21.930797Z",
     "shell.execute_reply": "2022-04-10T04:33:21.930217Z",
     "shell.execute_reply.started": "2022-04-10T03:50:00.502737Z"
    },
    "papermill": {
     "duration": 0.050501,
     "end_time": "2022-04-10T04:33:21.930919",
     "exception": false,
     "start_time": "2022-04-10T04:33:21.880418",
     "status": "completed"
    },
    "tags": []
   },
   "outputs": [],
   "source": [
    "from sklearn.model_selection import train_test_split\n",
    "X_train_1,X_test_1,y_train_1,y_test_1 =  train_test_split(X,y,test_size=0.20, random_state=7,stratify=y) # Розбиваємо дату на випадкові потяги та тестові підмножини."
   ]
  },
  {
   "cell_type": "code",
   "execution_count": 13,
   "id": "9d801139",
   "metadata": {
    "execution": {
     "iopub.execute_input": "2022-04-10T04:33:22.019802Z",
     "iopub.status.busy": "2022-04-10T04:33:22.017580Z",
     "iopub.status.idle": "2022-04-10T04:33:22.020623Z",
     "shell.execute_reply": "2022-04-10T04:33:22.021257Z",
     "shell.execute_reply.started": "2022-04-10T03:50:00.512526Z"
    },
    "papermill": {
     "duration": 0.051252,
     "end_time": "2022-04-10T04:33:22.021401",
     "exception": false,
     "start_time": "2022-04-10T04:33:21.970149",
     "status": "completed"
    },
    "tags": []
   },
   "outputs": [],
   "source": [
    "X_test = pd.concat([X_test_1,X_test_nomiss], axis=0)\n",
    "y_test = pd.concat([y_test_1,y_test_nomiss], axis=0) # Об'єднуємо об'єкти по осях"
   ]
  },
  {
   "cell_type": "code",
   "execution_count": 14,
   "id": "3ca21b50",
   "metadata": {
    "execution": {
     "iopub.execute_input": "2022-04-10T04:33:22.111251Z",
     "iopub.status.busy": "2022-04-10T04:33:22.110255Z",
     "iopub.status.idle": "2022-04-10T04:33:22.127318Z",
     "shell.execute_reply": "2022-04-10T04:33:22.126694Z",
     "shell.execute_reply.started": "2022-04-10T03:50:00.521832Z"
    },
    "papermill": {
     "duration": 0.066271,
     "end_time": "2022-04-10T04:33:22.127486",
     "exception": false,
     "start_time": "2022-04-10T04:33:22.061215",
     "status": "completed"
    },
    "tags": []
   },
   "outputs": [],
   "source": [
    "from sklearn.preprocessing import StandardScaler\n",
    "scaling_x=StandardScaler()\n",
    "X_train_1=scaling_x.fit_transform(X_train_1)\n",
    "X_test=scaling_x.fit_transform(X_test)\n",
    "X_test_1=scaling_x.fit_transform(X_test_1)\n",
    "X_test_nomiss=scaling_x.fit_transform(X_test_nomiss)\n",
    "#Стандартизуємо функції, видаливши середнє значення та масштабуючи дисперсію одиниць."
   ]
  },
  {
   "cell_type": "code",
   "execution_count": 15,
   "id": "f178fb23",
   "metadata": {
    "execution": {
     "iopub.execute_input": "2022-04-10T04:33:22.210917Z",
     "iopub.status.busy": "2022-04-10T04:33:22.209974Z",
     "iopub.status.idle": "2022-04-10T04:33:22.285645Z",
     "shell.execute_reply": "2022-04-10T04:33:22.286199Z",
     "shell.execute_reply.started": "2022-04-10T03:50:00.543694Z"
    },
    "papermill": {
     "duration": 0.120255,
     "end_time": "2022-04-10T04:33:22.286431",
     "exception": false,
     "start_time": "2022-04-10T04:33:22.166176",
     "status": "completed"
    },
    "tags": []
   },
   "outputs": [],
   "source": [
    "import xgboost as xgb\n",
    "from xgboost.sklearn import XGBClassifier\n",
    "from sklearn import metrics  \n",
    "from sklearn.model_selection import GridSearchCV, RandomizedSearchCV\n",
    "from sklearn.model_selection import cross_val_score"
   ]
  },
  {
   "cell_type": "markdown",
   "id": "7a842b54",
   "metadata": {},
   "source": [
    "## Задаємо конфігурацію можелі"
   ]
  },
  {
   "cell_type": "code",
   "execution_count": 16,
   "id": "7b4234df",
   "metadata": {
    "execution": {
     "iopub.execute_input": "2022-04-10T04:33:22.375210Z",
     "iopub.status.busy": "2022-04-10T04:33:22.374409Z",
     "iopub.status.idle": "2022-04-10T04:33:25.320476Z",
     "shell.execute_reply": "2022-04-10T04:33:25.319832Z",
     "shell.execute_reply.started": "2022-04-10T03:50:00.612559Z"
    },
    "papermill": {
     "duration": 2.993001,
     "end_time": "2022-04-10T04:33:25.320636",
     "exception": false,
     "start_time": "2022-04-10T04:33:22.327635",
     "status": "completed"
    },
    "tags": []
   },
   "outputs": [
    {
     "data": {
      "text/html": [
       "<style>#sk-container-id-1 {color: black;background-color: white;}#sk-container-id-1 pre{padding: 0;}#sk-container-id-1 div.sk-toggleable {background-color: white;}#sk-container-id-1 label.sk-toggleable__label {cursor: pointer;display: block;width: 100%;margin-bottom: 0;padding: 0.3em;box-sizing: border-box;text-align: center;}#sk-container-id-1 label.sk-toggleable__label-arrow:before {content: \"▸\";float: left;margin-right: 0.25em;color: #696969;}#sk-container-id-1 label.sk-toggleable__label-arrow:hover:before {color: black;}#sk-container-id-1 div.sk-estimator:hover label.sk-toggleable__label-arrow:before {color: black;}#sk-container-id-1 div.sk-toggleable__content {max-height: 0;max-width: 0;overflow: hidden;text-align: left;background-color: #f0f8ff;}#sk-container-id-1 div.sk-toggleable__content pre {margin: 0.2em;color: black;border-radius: 0.25em;background-color: #f0f8ff;}#sk-container-id-1 input.sk-toggleable__control:checked~div.sk-toggleable__content {max-height: 200px;max-width: 100%;overflow: auto;}#sk-container-id-1 input.sk-toggleable__control:checked~label.sk-toggleable__label-arrow:before {content: \"▾\";}#sk-container-id-1 div.sk-estimator input.sk-toggleable__control:checked~label.sk-toggleable__label {background-color: #d4ebff;}#sk-container-id-1 div.sk-label input.sk-toggleable__control:checked~label.sk-toggleable__label {background-color: #d4ebff;}#sk-container-id-1 input.sk-hidden--visually {border: 0;clip: rect(1px 1px 1px 1px);clip: rect(1px, 1px, 1px, 1px);height: 1px;margin: -1px;overflow: hidden;padding: 0;position: absolute;width: 1px;}#sk-container-id-1 div.sk-estimator {font-family: monospace;background-color: #f0f8ff;border: 1px dotted black;border-radius: 0.25em;box-sizing: border-box;margin-bottom: 0.5em;}#sk-container-id-1 div.sk-estimator:hover {background-color: #d4ebff;}#sk-container-id-1 div.sk-parallel-item::after {content: \"\";width: 100%;border-bottom: 1px solid gray;flex-grow: 1;}#sk-container-id-1 div.sk-label:hover label.sk-toggleable__label {background-color: #d4ebff;}#sk-container-id-1 div.sk-serial::before {content: \"\";position: absolute;border-left: 1px solid gray;box-sizing: border-box;top: 0;bottom: 0;left: 50%;z-index: 0;}#sk-container-id-1 div.sk-serial {display: flex;flex-direction: column;align-items: center;background-color: white;padding-right: 0.2em;padding-left: 0.2em;position: relative;}#sk-container-id-1 div.sk-item {position: relative;z-index: 1;}#sk-container-id-1 div.sk-parallel {display: flex;align-items: stretch;justify-content: center;background-color: white;position: relative;}#sk-container-id-1 div.sk-item::before, #sk-container-id-1 div.sk-parallel-item::before {content: \"\";position: absolute;border-left: 1px solid gray;box-sizing: border-box;top: 0;bottom: 0;left: 50%;z-index: -1;}#sk-container-id-1 div.sk-parallel-item {display: flex;flex-direction: column;z-index: 1;position: relative;background-color: white;}#sk-container-id-1 div.sk-parallel-item:first-child::after {align-self: flex-end;width: 50%;}#sk-container-id-1 div.sk-parallel-item:last-child::after {align-self: flex-start;width: 50%;}#sk-container-id-1 div.sk-parallel-item:only-child::after {width: 0;}#sk-container-id-1 div.sk-dashed-wrapped {border: 1px dashed gray;margin: 0 0.4em 0.5em 0.4em;box-sizing: border-box;padding-bottom: 0.4em;background-color: white;}#sk-container-id-1 div.sk-label label {font-family: monospace;font-weight: bold;display: inline-block;line-height: 1.2em;}#sk-container-id-1 div.sk-label-container {text-align: center;}#sk-container-id-1 div.sk-container {/* jupyter's `normalize.less` sets `[hidden] { display: none; }` but bootstrap.min.css set `[hidden] { display: none !important; }` so we also need the `!important` here to be able to override the default hidden behavior on the sphinx rendered scikit-learn.org. See: https://github.com/scikit-learn/scikit-learn/issues/21755 */display: inline-block !important;position: relative;}#sk-container-id-1 div.sk-text-repr-fallback {display: none;}</style><div id=\"sk-container-id-1\" class=\"sk-top-container\"><div class=\"sk-text-repr-fallback\"><pre>XGBClassifier(base_score=0.5, booster=&#x27;gbtree&#x27;, callbacks=None,\n",
       "              colsample_bylevel=1, colsample_bynode=1, colsample_bytree=0.8,\n",
       "              early_stopping_rounds=None, enable_categorical=False,\n",
       "              eval_metric=None, gamma=0, gpu_id=-1, grow_policy=&#x27;depthwise&#x27;,\n",
       "              importance_type=None, interaction_constraints=&#x27;&#x27;,\n",
       "              learning_rate=0.1, max_bin=256, max_cat_to_onehot=4,\n",
       "              max_delta_step=0, max_depth=5, max_leaves=0, min_child_weight=1,\n",
       "              missing=nan, monotone_constraints=&#x27;()&#x27;, n_estimators=100,\n",
       "              n_jobs=4, nthread=4, num_parallel_tree=1, predictor=&#x27;auto&#x27;,\n",
       "              random_state=27, reg_alpha=0, ...)</pre><b>In a Jupyter environment, please rerun this cell to show the HTML representation or trust the notebook. <br />On GitHub, the HTML representation is unable to render, please try loading this page with nbviewer.org.</b></div><div class=\"sk-container\" hidden><div class=\"sk-item\"><div class=\"sk-estimator sk-toggleable\"><input class=\"sk-toggleable__control sk-hidden--visually\" id=\"sk-estimator-id-1\" type=\"checkbox\" checked><label for=\"sk-estimator-id-1\" class=\"sk-toggleable__label sk-toggleable__label-arrow\">XGBClassifier</label><div class=\"sk-toggleable__content\"><pre>XGBClassifier(base_score=0.5, booster=&#x27;gbtree&#x27;, callbacks=None,\n",
       "              colsample_bylevel=1, colsample_bynode=1, colsample_bytree=0.8,\n",
       "              early_stopping_rounds=None, enable_categorical=False,\n",
       "              eval_metric=None, gamma=0, gpu_id=-1, grow_policy=&#x27;depthwise&#x27;,\n",
       "              importance_type=None, interaction_constraints=&#x27;&#x27;,\n",
       "              learning_rate=0.1, max_bin=256, max_cat_to_onehot=4,\n",
       "              max_delta_step=0, max_depth=5, max_leaves=0, min_child_weight=1,\n",
       "              missing=nan, monotone_constraints=&#x27;()&#x27;, n_estimators=100,\n",
       "              n_jobs=4, nthread=4, num_parallel_tree=1, predictor=&#x27;auto&#x27;,\n",
       "              random_state=27, reg_alpha=0, ...)</pre></div></div></div></div></div>"
      ],
      "text/plain": [
       "XGBClassifier(base_score=0.5, booster='gbtree', callbacks=None,\n",
       "              colsample_bylevel=1, colsample_bynode=1, colsample_bytree=0.8,\n",
       "              early_stopping_rounds=None, enable_categorical=False,\n",
       "              eval_metric=None, gamma=0, gpu_id=-1, grow_policy='depthwise',\n",
       "              importance_type=None, interaction_constraints='',\n",
       "              learning_rate=0.1, max_bin=256, max_cat_to_onehot=4,\n",
       "              max_delta_step=0, max_depth=5, max_leaves=0, min_child_weight=1,\n",
       "              missing=nan, monotone_constraints='()', n_estimators=100,\n",
       "              n_jobs=4, nthread=4, num_parallel_tree=1, predictor='auto',\n",
       "              random_state=27, reg_alpha=0, ...)"
      ]
     },
     "execution_count": 16,
     "metadata": {},
     "output_type": "execute_result"
    }
   ],
   "source": [
    "xgb1 = XGBClassifier(  # Глобальна конфігурація \n",
    " learning_rate =0.1,\n",
    " n_estimators=100,\n",
    " max_depth=5,\n",
    " min_child_weight=1,\n",
    " gamma=0,\n",
    " subsample=0.8,\n",
    " colsample_bytree=0.8,\n",
    " objective= 'binary:logistic',\n",
    " nthread=4,\n",
    " scale_pos_weight=1,\n",
    " seed=27,\n",
    " use_label_encoder=False,  \n",
    " )\n",
    "\n",
    "xgb1.fit(X_train_1, \n",
    "          y_train_1,\n",
    "         )\n"
   ]
  },
  {
   "cell_type": "markdown",
   "id": "506e8b9c",
   "metadata": {},
   "source": [
    "## Тренеруємо та тетуємо модель"
   ]
  },
  {
   "cell_type": "code",
   "execution_count": 17,
   "id": "528d4655",
   "metadata": {
    "execution": {
     "iopub.execute_input": "2022-04-10T04:33:25.413284Z",
     "iopub.status.busy": "2022-04-10T04:33:25.412347Z",
     "iopub.status.idle": "2022-04-10T04:33:25.435850Z",
     "shell.execute_reply": "2022-04-10T04:33:25.435017Z",
     "shell.execute_reply.started": "2022-04-10T03:50:03.405602Z"
    },
    "papermill": {
     "duration": 0.073066,
     "end_time": "2022-04-10T04:33:25.436040",
     "exception": false,
     "start_time": "2022-04-10T04:33:25.362974",
     "status": "completed"
    },
    "tags": []
   },
   "outputs": [
    {
     "name": "stdout",
     "output_type": "stream",
     "text": [
      "\n",
      "Model Report\n",
      "Accuracy (Train): 99.82 %\n",
      "Accuracy (Test): 82.49 %\n",
      "AUC Score (Train): 100.0 %\n",
      "AUC Score (Test): 88.64 %\n"
     ]
    }
   ],
   "source": [
    "print(\"\\nModel Report\") \n",
    "y_preds = xgb1.predict(X_test)\n",
    "y_pred_proba = xgb1.predict_proba(X_test)[:,1]\n",
    "\n",
    "y_preds1 = xgb1.predict(X_train_1)\n",
    "y_pred_proba1 = xgb1.predict_proba(X_train_1)[:,1] # Розбиваємо інформацію про тренування моделі\n",
    "\n",
    "print('Accuracy (Train):', round(metrics.accuracy_score(y_train_1, y_preds1) * 100,2),'%')\n",
    "print('Accuracy (Test):', round(metrics.accuracy_score(y_test, y_preds) * 100,2),'%')\n",
    "print('AUC Score (Train):', round(metrics.roc_auc_score(y_train_1, y_pred_proba1) * 100,2),'%')\n",
    "print('AUC Score (Test):', round(metrics.roc_auc_score(y_test, y_pred_proba) * 100,2),'%') # Виводимо інформацію"
   ]
  },
  {
   "cell_type": "markdown",
   "id": "6aff7bf7",
   "metadata": {
    "papermill": {
     "duration": 0.041386,
     "end_time": "2022-04-10T04:33:25.519008",
     "exception": false,
     "start_time": "2022-04-10T04:33:25.477622",
     "status": "completed"
    },
    "tags": []
   },
   "source": [
    "## Встановлюємо ширші діапазони, а потім виконаємо ще одну ітерацію для менших діапазонів."
   ]
  },
  {
   "cell_type": "code",
   "execution_count": 18,
   "id": "4935e244",
   "metadata": {
    "execution": {
     "iopub.execute_input": "2022-04-10T04:33:25.613325Z",
     "iopub.status.busy": "2022-04-10T04:33:25.612565Z",
     "iopub.status.idle": "2022-04-10T04:33:42.381598Z",
     "shell.execute_reply": "2022-04-10T04:33:42.382609Z",
     "shell.execute_reply.started": "2022-04-10T03:50:03.430801Z"
    },
    "papermill": {
     "duration": 16.822595,
     "end_time": "2022-04-10T04:33:42.382886",
     "exception": false,
     "start_time": "2022-04-10T04:33:25.560291",
     "status": "completed"
    },
    "tags": []
   },
   "outputs": [
    {
     "name": "stdout",
     "output_type": "stream",
     "text": [
      "[0]\tvalidation_0-auc:0.85688\n",
      "[1]\tvalidation_0-auc:0.88230\n",
      "[2]\tvalidation_0-auc:0.88055\n",
      "[3]\tvalidation_0-auc:0.89326\n",
      "[4]\tvalidation_0-auc:0.88164\n",
      "[5]\tvalidation_0-auc:0.89350\n",
      "[6]\tvalidation_0-auc:0.89184\n",
      "[7]\tvalidation_0-auc:0.89350\n",
      "[8]\tvalidation_0-auc:0.89468\n",
      "[9]\tvalidation_0-auc:0.89685\n",
      "[10]\tvalidation_0-auc:0.89742\n",
      "[11]\tvalidation_0-auc:0.89851\n",
      "[12]\tvalidation_0-auc:0.89728\n",
      "[13]\tvalidation_0-auc:0.89813\n",
      "[14]\tvalidation_0-auc:0.89624\n",
      "[15]\tvalidation_0-auc:0.89874\n",
      "[16]\tvalidation_0-auc:0.89789\n",
      "[17]\tvalidation_0-auc:0.89666\n",
      "[18]\tvalidation_0-auc:0.89903\n",
      "[19]\tvalidation_0-auc:0.90073\n",
      "[20]\tvalidation_0-auc:0.90177\n",
      "[21]\tvalidation_0-auc:0.90314\n",
      "[22]\tvalidation_0-auc:0.90276\n",
      "[23]\tvalidation_0-auc:0.90380\n",
      "[24]\tvalidation_0-auc:0.90285\n",
      "[25]\tvalidation_0-auc:0.90087\n",
      "[26]\tvalidation_0-auc:0.90087\n",
      "[27]\tvalidation_0-auc:0.90030\n",
      "[28]\tvalidation_0-auc:0.90021\n",
      "Tuned Paramerers ==>  {'max_depth': 3, 'min_child_weight': 5}\n",
      "Best Score ==>  0.9556312684926473\n",
      "Accuracy on Train set ==>  0.9811501920355771\n",
      "Accuracy on Test set ==>  0.9037989037989038\n"
     ]
    },
    {
     "name": "stderr",
     "output_type": "stream",
     "text": [
      "c:\\Users\\ykuch\\AppData\\Local\\Programs\\Python\\Python310\\lib\\site-packages\\xgboost\\sklearn.py:793: UserWarning: `early_stopping_rounds` in `fit` method is deprecated for better compatibility with scikit-learn, use `early_stopping_rounds` in constructor or`set_params` instead.\n",
      "  warnings.warn(\n"
     ]
    }
   ],
   "source": [
    "param_test1 = {\n",
    " 'max_depth':range(3,10,2),\n",
    " 'min_child_weight':range(1,6,2)\n",
    "}\n",
    "\n",
    "gsearch1 = GridSearchCV(estimator=XGBClassifier(learning_rate =0.1,\n",
    "                                                n_estimators=100,\n",
    "                                                #max_depth=5,\n",
    "                                                #min_child_weight=1,\n",
    "                                                gamma=0,\n",
    "                                                subsample=0.8,\n",
    "                                                colsample_bytree=0.8,\n",
    "                                                objective= 'binary:logistic',\n",
    "                                                nthread=4,\n",
    "                                                scale_pos_weight=1,\n",
    "                                                seed=27,\n",
    "                                                use_label_encoder=False,  \n",
    "                                                eval_metric='auc'),\n",
    "                        param_grid = param_test1, \n",
    "                        scoring='roc_auc',\n",
    "                        n_jobs=4,\n",
    "                        cv=5)  # автоматичне підбирання параметрів для моделей машинного навчання\n",
    "eval_set = [(X_test, y_test)]\n",
    "\n",
    "gsearch1.fit(X_train_1, y_train_1,early_stopping_rounds=5,eval_set=eval_set)\n",
    "print(\"Tuned Paramerers ==> \",gsearch1.best_params_)\n",
    "print(\"Best Score ==> \",gsearch1.best_score_)\n",
    "print(\"Accuracy on Train set ==> \", gsearch1.score(X_train_1,y_train_1))\n",
    "print(\"Accuracy on Test set ==> \", gsearch1.score(X_test,y_test))"
   ]
  },
  {
   "cell_type": "code",
   "execution_count": 19,
   "id": "da66c360",
   "metadata": {
    "execution": {
     "iopub.execute_input": "2022-04-10T04:33:42.578577Z",
     "iopub.status.busy": "2022-04-10T04:33:42.577573Z",
     "iopub.status.idle": "2022-04-10T04:33:46.876955Z",
     "shell.execute_reply": "2022-04-10T04:33:46.878404Z",
     "shell.execute_reply.started": "2022-04-10T03:50:15.611123Z"
    },
    "papermill": {
     "duration": 4.40702,
     "end_time": "2022-04-10T04:33:46.878637",
     "exception": false,
     "start_time": "2022-04-10T04:33:42.471617",
     "status": "completed"
    },
    "tags": []
   },
   "outputs": [
    {
     "name": "stdout",
     "output_type": "stream",
     "text": [
      "[0]\tvalidation_0-auc:0.86066\n",
      "[1]\tvalidation_0-auc:0.89010\n",
      "[2]\tvalidation_0-auc:0.88972\n",
      "[3]\tvalidation_0-auc:0.89506\n",
      "[4]\tvalidation_0-auc:0.89166\n",
      "[5]\tvalidation_0-auc:0.89761\n",
      "[6]\tvalidation_0-auc:0.89284\n",
      "[7]\tvalidation_0-auc:0.89383\n",
      "[8]\tvalidation_0-auc:0.89373\n",
      "[9]\tvalidation_0-auc:0.89241\n",
      "[10]\tvalidation_0-auc:0.89421\n",
      "Tuned Paramerers ==>  {'max_depth': 4, 'min_child_weight': 7}\n",
      "Best Score ==>  0.9569816937311378\n",
      "Accuracy on Train set ==>  0.966805278812556\n",
      "Accuracy on Test set ==>  0.8976091476091476\n"
     ]
    },
    {
     "name": "stderr",
     "output_type": "stream",
     "text": [
      "c:\\Users\\ykuch\\AppData\\Local\\Programs\\Python\\Python310\\lib\\site-packages\\xgboost\\sklearn.py:793: UserWarning: `early_stopping_rounds` in `fit` method is deprecated for better compatibility with scikit-learn, use `early_stopping_rounds` in constructor or`set_params` instead.\n",
      "  warnings.warn(\n"
     ]
    }
   ],
   "source": [
    "param_test2 = {\n",
    " 'max_depth':[4,5,6],\n",
    " 'min_child_weight':[2,3,4,5,6,7,8,9]\n",
    "}\n",
    "\n",
    "\n",
    "gsearch2 = GridSearchCV(estimator=XGBClassifier(learning_rate =0.1,\n",
    "                                                n_estimators=100,\n",
    "                                                #max_depth=5,\n",
    "                                                #min_child_weight=1,\n",
    "                                                gamma=0,\n",
    "                                                subsample=0.8,\n",
    "                                                colsample_bytree=0.8,\n",
    "                                                objective= 'binary:logistic',\n",
    "                                                nthread=4,\n",
    "                                                scale_pos_weight=1,\n",
    "                                                seed=27,\n",
    "                                                use_label_encoder=False,  \n",
    "                                                eval_metric='auc'),\n",
    "                        param_grid = param_test2, \n",
    "                        scoring='roc_auc',\n",
    "                        n_jobs=4,\n",
    "                        cv=5)\n",
    "eval_set = [(X_test, y_test)]\n",
    "\n",
    "gsearch2.fit(X_train_1, y_train_1,early_stopping_rounds=5,eval_set=eval_set)\n",
    "print(\"Tuned Paramerers ==> \",gsearch2.best_params_)\n",
    "print(\"Best Score ==> \",gsearch2.best_score_)\n",
    "print(\"Accuracy on Train set ==> \", gsearch2.score(X_train_1,y_train_1))\n",
    "print(\"Accuracy on Test set ==> \", gsearch2.score(X_test,y_test))"
   ]
  },
  {
   "cell_type": "code",
   "execution_count": 20,
   "id": "c5064d6d",
   "metadata": {
    "execution": {
     "iopub.execute_input": "2022-04-10T04:33:47.027832Z",
     "iopub.status.busy": "2022-04-10T04:33:47.026818Z",
     "iopub.status.idle": "2022-04-10T04:34:02.960239Z",
     "shell.execute_reply": "2022-04-10T04:34:02.961202Z",
     "shell.execute_reply.started": "2022-04-10T03:50:19.242434Z"
    },
    "papermill": {
     "duration": 16.014737,
     "end_time": "2022-04-10T04:34:02.961465",
     "exception": false,
     "start_time": "2022-04-10T04:33:46.946728",
     "status": "completed"
    },
    "tags": []
   },
   "outputs": [
    {
     "name": "stdout",
     "output_type": "stream",
     "text": [
      "[0]\tvalidation_0-auc:0.86066\n",
      "[1]\tvalidation_0-auc:0.89095\n",
      "[2]\tvalidation_0-auc:0.89496\n",
      "[3]\tvalidation_0-auc:0.89799\n",
      "[4]\tvalidation_0-auc:0.89236\n",
      "[5]\tvalidation_0-auc:0.90044\n",
      "[6]\tvalidation_0-auc:0.89534\n",
      "[7]\tvalidation_0-auc:0.89605\n",
      "[8]\tvalidation_0-auc:0.89737\n",
      "[9]\tvalidation_0-auc:0.89794\n",
      "Tuned Paramerers ==>  {'n_estimators': 100}\n",
      "Best Score ==>  0.955417725275027\n",
      "Accuracy on Train set ==>  0.9692382107482168\n",
      "Accuracy on Test set ==>  0.9004441504441505\n"
     ]
    },
    {
     "name": "stderr",
     "output_type": "stream",
     "text": [
      "c:\\Users\\ykuch\\AppData\\Local\\Programs\\Python\\Python310\\lib\\site-packages\\xgboost\\sklearn.py:793: UserWarning: `early_stopping_rounds` in `fit` method is deprecated for better compatibility with scikit-learn, use `early_stopping_rounds` in constructor or`set_params` instead.\n",
      "  warnings.warn(\n"
     ]
    }
   ],
   "source": [
    "param_test3 = {\n",
    " 'n_estimators':range(100,2000,25)\n",
    "}\n",
    "\n",
    "gsearch3 = GridSearchCV(estimator=XGBClassifier(learning_rate =0.1,\n",
    "                                                #n_estimators=100,\n",
    "                                                max_depth=5,\n",
    "                                                min_child_weight=6,\n",
    "                                                gamma=0,\n",
    "                                                subsample=0.8,\n",
    "                                                colsample_bytree=0.8,\n",
    "                                                objective= 'binary:logistic',\n",
    "                                                nthread=4,\n",
    "                                                scale_pos_weight=1,\n",
    "                                                seed=27,\n",
    "                                                use_label_encoder=False,  \n",
    "                                                eval_metric='auc'),\n",
    "                        param_grid = param_test3, \n",
    "                        scoring='roc_auc',\n",
    "                        n_jobs=4,\n",
    "                        cv=5)\n",
    "eval_set = [(X_test, y_test)]\n",
    "\n",
    "gsearch3.fit(X_train_1, y_train_1,early_stopping_rounds=5,eval_set=eval_set)\n",
    "print(\"Tuned Paramerers ==> \",gsearch3.best_params_)\n",
    "print(\"Best Score ==> \",gsearch3.best_score_)\n",
    "print(\"Accuracy on Train set ==> \", gsearch3.score(X_train_1,y_train_1))\n",
    "print(\"Accuracy on Test set ==> \", gsearch3.score(X_test,y_test))"
   ]
  },
  {
   "cell_type": "code",
   "execution_count": 21,
   "id": "49d5158d",
   "metadata": {
    "execution": {
     "iopub.execute_input": "2022-04-10T04:34:03.210288Z",
     "iopub.status.busy": "2022-04-10T04:34:03.197520Z",
     "iopub.status.idle": "2022-04-10T04:34:21.224703Z",
     "shell.execute_reply": "2022-04-10T04:34:21.225499Z",
     "shell.execute_reply.started": "2022-04-10T03:50:32.873855Z"
    },
    "papermill": {
     "duration": 18.153274,
     "end_time": "2022-04-10T04:34:21.225764",
     "exception": false,
     "start_time": "2022-04-10T04:34:03.072490",
     "status": "completed"
    },
    "tags": []
   },
   "outputs": [
    {
     "name": "stdout",
     "output_type": "stream",
     "text": [
      "[0]\tvalidation_0-auc:0.85631\n",
      "[1]\tvalidation_0-auc:0.89000\n",
      "[2]\tvalidation_0-auc:0.89081\n",
      "[3]\tvalidation_0-auc:0.90356\n",
      "[4]\tvalidation_0-auc:0.89562\n",
      "[5]\tvalidation_0-auc:0.90248\n",
      "[6]\tvalidation_0-auc:0.89600\n",
      "[7]\tvalidation_0-auc:0.89633\n",
      "Tuned Paramerers ==>  {'colsample_bytree': 0.8, 'gamma': 0.1, 'subsample': 0.7}\n",
      "Best Score ==>  0.9594194496714883\n",
      "Accuracy on Train set ==>  0.9661483149961015\n",
      "Accuracy on Test set ==>  0.9035626535626535\n"
     ]
    },
    {
     "name": "stderr",
     "output_type": "stream",
     "text": [
      "c:\\Users\\ykuch\\AppData\\Local\\Programs\\Python\\Python310\\lib\\site-packages\\xgboost\\sklearn.py:793: UserWarning: `early_stopping_rounds` in `fit` method is deprecated for better compatibility with scikit-learn, use `early_stopping_rounds` in constructor or`set_params` instead.\n",
      "  warnings.warn(\n"
     ]
    }
   ],
   "source": [
    "param_test4 = {\n",
    " 'gamma':[i/10.0 for i in range(0,5)],\n",
    " 'subsample':[i/10.0 for i in range(6,10)],\n",
    " 'colsample_bytree':[i/10.0 for i in range(6,10)]\n",
    "}\n",
    "gsearch4 = GridSearchCV(estimator=XGBClassifier(learning_rate =0.1,\n",
    "                                                n_estimators=100,\n",
    "                                                max_depth=5,\n",
    "                                                min_child_weight=6,\n",
    "                                                #gamma=0,\n",
    "                                                #subsample=0.8,\n",
    "                                                #colsample_bytree=0.8,\n",
    "                                                objective= 'binary:logistic',\n",
    "                                                nthread=4,\n",
    "                                                scale_pos_weight=1,\n",
    "                                                seed=27,\n",
    "                                                use_label_encoder=False,  \n",
    "                                                eval_metric='auc'),\n",
    "                        param_grid = param_test4, \n",
    "                        scoring='roc_auc',\n",
    "                        n_jobs=4,\n",
    "                        cv=5)\n",
    "eval_set = [(X_test, y_test)]\n",
    "gsearch4.fit(X_train_1, y_train_1,early_stopping_rounds=5,eval_set=eval_set)\n",
    "print(\"Tuned Paramerers ==> \",gsearch4.best_params_)\n",
    "print(\"Best Score ==> \",gsearch4.best_score_)\n",
    "print(\"Accuracy on Train set ==> \", gsearch4.score(X_train_1,y_train_1))\n",
    "print(\"Accuracy on Test set ==> \", gsearch4.score(X_test,y_test))"
   ]
  },
  {
   "cell_type": "code",
   "execution_count": 22,
   "id": "13db3bc4",
   "metadata": {
    "execution": {
     "iopub.execute_input": "2022-04-10T04:34:21.568089Z",
     "iopub.status.busy": "2022-04-10T04:34:21.565597Z",
     "iopub.status.idle": "2022-04-10T04:36:01.142794Z",
     "shell.execute_reply": "2022-04-10T04:36:01.092858Z",
     "shell.execute_reply.started": "2022-04-10T03:50:47.233275Z"
    },
    "papermill": {
     "duration": 99.751651,
     "end_time": "2022-04-10T04:36:01.143052",
     "exception": false,
     "start_time": "2022-04-10T04:34:21.391401",
     "status": "completed"
    },
    "tags": []
   },
   "outputs": [
    {
     "name": "stdout",
     "output_type": "stream",
     "text": [
      "[0]\tvalidation_0-auc:0.85631\n",
      "[1]\tvalidation_0-auc:0.89000\n",
      "[2]\tvalidation_0-auc:0.89081\n",
      "[3]\tvalidation_0-auc:0.90356\n",
      "[4]\tvalidation_0-auc:0.89562\n",
      "[5]\tvalidation_0-auc:0.90248\n",
      "[6]\tvalidation_0-auc:0.89600\n",
      "[7]\tvalidation_0-auc:0.89633\n",
      "[8]\tvalidation_0-auc:0.89879\n",
      "Tuned Paramerers ==>  {'colsample_bytree': 0.75, 'gamma': 0.06, 'subsample': 0.7}\n",
      "Best Score ==>  0.9598814094644339\n",
      "Accuracy on Train set ==>  0.9661483149961015\n",
      "Accuracy on Test set ==>  0.9035626535626535\n"
     ]
    },
    {
     "name": "stderr",
     "output_type": "stream",
     "text": [
      "c:\\Users\\ykuch\\AppData\\Local\\Programs\\Python\\Python310\\lib\\site-packages\\xgboost\\sklearn.py:793: UserWarning: `early_stopping_rounds` in `fit` method is deprecated for better compatibility with scikit-learn, use `early_stopping_rounds` in constructor or`set_params` instead.\n",
      "  warnings.warn(\n"
     ]
    }
   ],
   "source": [
    "param_test5 = {\n",
    " 'gamma':[i/100.0 for i in range(1,20,5)],\n",
    " 'subsample':[i/100.0 for i in range(45,100,5)],\n",
    " 'colsample_bytree':[i/100.0 for i in range(45,100,5)]\n",
    "}\n",
    "gsearch5 = GridSearchCV(estimator=XGBClassifier(learning_rate =0.1,\n",
    "                                                n_estimators=100,\n",
    "                                                max_depth=5,\n",
    "                                                min_child_weight=6,\n",
    "                                                #gamma=0,\n",
    "                                                #subsample=0.8,\n",
    "                                                #colsample_bytree=0.8,\n",
    "                                                objective= 'binary:logistic',\n",
    "                                                nthread=4,\n",
    "                                                scale_pos_weight=1,\n",
    "                                                seed=27,\n",
    "                                                use_label_encoder=False,  \n",
    "                                                eval_metric='auc'),\n",
    "                        param_grid = param_test5, \n",
    "                        scoring='roc_auc',\n",
    "                        n_jobs=4,\n",
    "                        cv=5)\n",
    "eval_set = [(X_test, y_test)]\n",
    "gsearch5.fit(X_train_1, y_train_1,early_stopping_rounds=5,eval_set=eval_set)\n",
    "print(\"Tuned Paramerers ==> \",gsearch5.best_params_)\n",
    "print(\"Best Score ==> \",gsearch5.best_score_)\n",
    "print(\"Accuracy on Train set ==> \", gsearch5.score(X_train_1,y_train_1))\n",
    "print(\"Accuracy on Test set ==> \", gsearch5.score(X_test,y_test))"
   ]
  },
  {
   "cell_type": "code",
   "execution_count": 23,
   "id": "45fc2919",
   "metadata": {
    "execution": {
     "iopub.execute_input": "2022-04-10T04:36:01.987558Z",
     "iopub.status.busy": "2022-04-10T04:36:01.986375Z",
     "iopub.status.idle": "2022-04-10T04:36:04.138810Z",
     "shell.execute_reply": "2022-04-10T04:36:04.139581Z",
     "shell.execute_reply.started": "2022-04-10T03:52:07.790966Z"
    },
    "papermill": {
     "duration": 2.571747,
     "end_time": "2022-04-10T04:36:04.139867",
     "exception": false,
     "start_time": "2022-04-10T04:36:01.568120",
     "status": "completed"
    },
    "tags": []
   },
   "outputs": [
    {
     "name": "stdout",
     "output_type": "stream",
     "text": [
      "[0]\tvalidation_0-auc:0.85631\n",
      "[1]\tvalidation_0-auc:0.89321\n",
      "[2]\tvalidation_0-auc:0.90073\n",
      "[3]\tvalidation_0-auc:0.90994\n",
      "[4]\tvalidation_0-auc:0.90281\n",
      "[5]\tvalidation_0-auc:0.90734\n",
      "[6]\tvalidation_0-auc:0.90106\n",
      "[7]\tvalidation_0-auc:0.90077\n",
      "[8]\tvalidation_0-auc:0.90163\n",
      "Tuned Paramerers ==>  {'nthread': 1}\n",
      "Best Score ==>  0.9553737045907174\n",
      "Accuracy on Train set ==>  0.9752519564526843\n",
      "Accuracy on Test set ==>  0.90994140994141\n"
     ]
    },
    {
     "name": "stderr",
     "output_type": "stream",
     "text": [
      "c:\\Users\\ykuch\\AppData\\Local\\Programs\\Python\\Python310\\lib\\site-packages\\xgboost\\sklearn.py:793: UserWarning: `early_stopping_rounds` in `fit` method is deprecated for better compatibility with scikit-learn, use `early_stopping_rounds` in constructor or`set_params` instead.\n",
      "  warnings.warn(\n"
     ]
    }
   ],
   "source": [
    "param_test6 = {\n",
    " 'nthread':range(1,10,1),\n",
    "}\n",
    "gsearch6 = GridSearchCV(estimator=XGBClassifier(learning_rate =0.1,\n",
    "                                                n_estimators=100,\n",
    "                                                max_depth=5,\n",
    "                                                min_child_weight=6,\n",
    "                                                gamma=0.06,\n",
    "                                                subsample=0.75,\n",
    "                                                colsample_bytree=0.8,\n",
    "                                                objective= 'binary:logistic',\n",
    "                                                #nthread=4,\n",
    "                                                scale_pos_weight=1,\n",
    "                                                seed=27,\n",
    "                                                use_label_encoder=False,  \n",
    "                                                eval_metric='auc'),\n",
    "                        param_grid = param_test6, \n",
    "                        scoring='roc_auc',\n",
    "                        n_jobs=4,\n",
    "                        cv=5)\n",
    "eval_set = [(X_test, y_test)]\n",
    "gsearch6.fit(X_train_1, y_train_1,early_stopping_rounds=5,eval_set=eval_set)\n",
    "print(\"Tuned Paramerers ==> \",gsearch6.best_params_)\n",
    "print(\"Best Score ==> \",gsearch6.best_score_)\n",
    "print(\"Accuracy on Train set ==> \", gsearch6.score(X_train_1,y_train_1))\n",
    "print(\"Accuracy on Test set ==> \", gsearch6.score(X_test,y_test))"
   ]
  },
  {
   "cell_type": "code",
   "execution_count": 24,
   "id": "f433f6c7",
   "metadata": {
    "execution": {
     "iopub.execute_input": "2022-04-10T04:36:05.427068Z",
     "iopub.status.busy": "2022-04-10T04:36:05.425776Z",
     "iopub.status.idle": "2022-04-10T04:36:06.063368Z",
     "shell.execute_reply": "2022-04-10T04:36:06.062548Z",
     "shell.execute_reply.started": "2022-04-10T03:52:10.094158Z"
    },
    "papermill": {
     "duration": 1.256586,
     "end_time": "2022-04-10T04:36:06.063614",
     "exception": false,
     "start_time": "2022-04-10T04:36:04.807028",
     "status": "completed"
    },
    "tags": []
   },
   "outputs": [
    {
     "name": "stdout",
     "output_type": "stream",
     "text": [
      "[0]\tvalidation_0-auc:0.85631\n",
      "[1]\tvalidation_0-auc:0.89321\n",
      "[2]\tvalidation_0-auc:0.90120\n",
      "[3]\tvalidation_0-auc:0.91004\n",
      "[4]\tvalidation_0-auc:0.90281\n",
      "[5]\tvalidation_0-auc:0.90734\n",
      "[6]\tvalidation_0-auc:0.90106\n",
      "[7]\tvalidation_0-auc:0.90087\n",
      "Tuned Paramerers ==>  {'reg_alpha': 0.01}\n",
      "Best Score ==>  0.9567099270537002\n",
      "Accuracy on Train set ==>  0.9752519564526843\n",
      "Accuracy on Test set ==>  0.91003591003591\n"
     ]
    },
    {
     "name": "stderr",
     "output_type": "stream",
     "text": [
      "c:\\Users\\ykuch\\AppData\\Local\\Programs\\Python\\Python310\\lib\\site-packages\\xgboost\\sklearn.py:793: UserWarning: `early_stopping_rounds` in `fit` method is deprecated for better compatibility with scikit-learn, use `early_stopping_rounds` in constructor or`set_params` instead.\n",
      "  warnings.warn(\n"
     ]
    }
   ],
   "source": [
    "param_test7 = {\n",
    " 'reg_alpha':[1e-5, 1e-2, 0.1, 1, 100]\n",
    "}\n",
    "gsearch7 = GridSearchCV(estimator=XGBClassifier(learning_rate =0.1,\n",
    "                                                n_estimators=1000,\n",
    "                                                max_depth=5,\n",
    "                                                min_child_weight=6,\n",
    "                                                gamma=0.06,\n",
    "                                                subsample=0.75,\n",
    "                                                colsample_bytree=0.8,\n",
    "                                                #reg_alpha=,\n",
    "                                                objective= 'binary:logistic',\n",
    "                                                nthread=1,\n",
    "                                                scale_pos_weight=1,\n",
    "                                                seed=27,\n",
    "                                                use_label_encoder=False,  \n",
    "                                                eval_metric='auc'),\n",
    "                        param_grid = param_test7, \n",
    "                        scoring='roc_auc',\n",
    "                        n_jobs=4,\n",
    "                        cv=5)\n",
    "eval_set = [(X_test, y_test)]\n",
    "gsearch7.fit(X_train_1, y_train_1,early_stopping_rounds=5,eval_set=eval_set)\n",
    "print(\"Tuned Paramerers ==> \",gsearch7.best_params_)\n",
    "print(\"Best Score ==> \",gsearch7.best_score_)\n",
    "print(\"Accuracy on Train set ==> \", gsearch7.score(X_train_1,y_train_1))\n",
    "print(\"Accuracy on Test set ==> \", gsearch7.score(X_test,y_test))"
   ]
  },
  {
   "cell_type": "code",
   "execution_count": 25,
   "id": "243467b2",
   "metadata": {
    "execution": {
     "iopub.execute_input": "2022-04-10T04:36:07.083633Z",
     "iopub.status.busy": "2022-04-10T04:36:07.081972Z",
     "iopub.status.idle": "2022-04-10T04:36:08.789662Z",
     "shell.execute_reply": "2022-04-10T04:36:08.790323Z",
     "shell.execute_reply.started": "2022-04-10T03:52:10.533768Z"
    },
    "papermill": {
     "duration": 2.216706,
     "end_time": "2022-04-10T04:36:08.790523",
     "exception": false,
     "start_time": "2022-04-10T04:36:06.573817",
     "status": "completed"
    },
    "tags": []
   },
   "outputs": [
    {
     "name": "stdout",
     "output_type": "stream",
     "text": [
      "[0]\tvalidation_0-auc:0.85631\n",
      "[1]\tvalidation_0-auc:0.88608\n",
      "[2]\tvalidation_0-auc:0.88906\n",
      "[3]\tvalidation_0-auc:0.89818\n",
      "[4]\tvalidation_0-auc:0.89364\n",
      "[5]\tvalidation_0-auc:0.90101\n",
      "[6]\tvalidation_0-auc:0.89463\n",
      "[7]\tvalidation_0-auc:0.89355\n",
      "[8]\tvalidation_0-auc:0.89496\n",
      "[9]\tvalidation_0-auc:0.89307\n",
      "[10]\tvalidation_0-auc:0.89232\n",
      "Tuned Paramerers ==>  {'learning_rate': 0.03}\n",
      "Best Score ==>  0.9546408492942964\n",
      "Accuracy on Train set ==>  0.9684224205145976\n",
      "Accuracy on Test set ==>  0.901011151011151\n"
     ]
    },
    {
     "name": "stderr",
     "output_type": "stream",
     "text": [
      "c:\\Users\\ykuch\\AppData\\Local\\Programs\\Python\\Python310\\lib\\site-packages\\xgboost\\sklearn.py:793: UserWarning: `early_stopping_rounds` in `fit` method is deprecated for better compatibility with scikit-learn, use `early_stopping_rounds` in constructor or`set_params` instead.\n",
      "  warnings.warn(\n"
     ]
    }
   ],
   "source": [
    "param_test8 = {\n",
    " 'learning_rate':[i/100.0 for i in range(1,10)]\n",
    "}\n",
    "gsearch8 = GridSearchCV(estimator=XGBClassifier(#learning_rate =0.1,\n",
    "                                                n_estimators=100,\n",
    "                                                max_depth=5,\n",
    "                                                min_child_weight=6,\n",
    "                                                gamma=0.06,\n",
    "                                                subsample=0.75,\n",
    "                                                colsample_bytree=0.8,\n",
    "                                                reg_alpha= 0.1,\n",
    "                                                objective= 'binary:logistic',\n",
    "                                                nthread=4,\n",
    "                                                scale_pos_weight=1,\n",
    "                                                seed=27,\n",
    "                                                use_label_encoder=False,  \n",
    "                                                eval_metric='auc'),\n",
    "                        param_grid = param_test8, \n",
    "                        scoring='roc_auc',\n",
    "                        n_jobs=4,\n",
    "                        cv=5)\n",
    "eval_set = [(X_test, y_test)]\n",
    "gsearch8.fit(X_train_1, y_train_1,early_stopping_rounds=5,eval_set=eval_set)\n",
    "print(\"Tuned Paramerers ==> \",gsearch8.best_params_)\n",
    "print(\"Best Score ==> \",gsearch8.best_score_)\n",
    "print(\"Accuracy on Train set ==> \", gsearch8.score(X_train_1,y_train_1))\n",
    "print(\"Accuracy on Test set ==> \", gsearch8.score(X_test,y_test))"
   ]
  },
  {
   "cell_type": "code",
   "execution_count": 26,
   "id": "88dc3d75",
   "metadata": {
    "execution": {
     "iopub.execute_input": "2022-04-10T04:36:09.666991Z",
     "iopub.status.busy": "2022-04-10T04:36:09.665185Z",
     "iopub.status.idle": "2022-04-10T04:36:10.969649Z",
     "shell.execute_reply": "2022-04-10T04:36:10.970426Z",
     "shell.execute_reply.started": "2022-04-10T03:52:11.917818Z"
    },
    "papermill": {
     "duration": 1.747673,
     "end_time": "2022-04-10T04:36:10.970664",
     "exception": false,
     "start_time": "2022-04-10T04:36:09.222991",
     "status": "completed"
    },
    "tags": []
   },
   "outputs": [
    {
     "name": "stdout",
     "output_type": "stream",
     "text": [
      "[0]\tvalidation_0-auc:0.85631\n",
      "[1]\tvalidation_0-auc:0.88608\n",
      "[2]\tvalidation_0-auc:0.88906\n",
      "[3]\tvalidation_0-auc:0.89818\n",
      "[4]\tvalidation_0-auc:0.89364\n",
      "[5]\tvalidation_0-auc:0.90101\n",
      "[6]\tvalidation_0-auc:0.89463\n",
      "[7]\tvalidation_0-auc:0.89355\n",
      "[8]\tvalidation_0-auc:0.89496\n",
      "[9]\tvalidation_0-auc:0.89307\n",
      "[10]\tvalidation_0-auc:0.89232\n",
      "Tuned Paramerers ==>  {'learning_rate': 0.03}\n",
      "Best Score ==>  0.9546408492942964\n",
      "Accuracy on Train set ==>  0.9684224205145976\n",
      "Accuracy on Test set ==>  0.901011151011151\n"
     ]
    },
    {
     "name": "stderr",
     "output_type": "stream",
     "text": [
      "c:\\Users\\ykuch\\AppData\\Local\\Programs\\Python\\Python310\\lib\\site-packages\\xgboost\\sklearn.py:793: UserWarning: `early_stopping_rounds` in `fit` method is deprecated for better compatibility with scikit-learn, use `early_stopping_rounds` in constructor or`set_params` instead.\n",
      "  warnings.warn(\n"
     ]
    }
   ],
   "source": [
    "param_test9 = {\n",
    " 'learning_rate':[i/100.0 for i in range(1,8)]\n",
    "}\n",
    "gsearch9 = GridSearchCV(estimator=XGBClassifier(#learning_rate =0.1,\n",
    "                                                n_estimators=100,\n",
    "                                                max_depth=5,\n",
    "                                                min_child_weight=6,\n",
    "                                                gamma=0.06,\n",
    "                                                subsample=0.75,\n",
    "                                                colsample_bytree=0.8,\n",
    "                                                reg_alpha= 0.1,\n",
    "                                                objective= 'binary:logistic',\n",
    "                                                nthread=4,\n",
    "                                                scale_pos_weight=1,\n",
    "                                                seed=27,\n",
    "                                                use_label_encoder=False,  \n",
    "                                                eval_metric='auc'),\n",
    "                        param_grid = param_test9, \n",
    "                        scoring='roc_auc',\n",
    "                        n_jobs=4,\n",
    "                        cv=5)\n",
    "eval_set = [(X_test, y_test)]\n",
    "gsearch9.fit(X_train_1, y_train_1,early_stopping_rounds=5,eval_set=eval_set)\n",
    "print(\"Tuned Paramerers ==> \",gsearch9.best_params_)\n",
    "print(\"Best Score ==> \",gsearch9.best_score_)\n",
    "print(\"Accuracy on Train set ==> \", gsearch9.score(X_train_1,y_train_1))\n",
    "print(\"Accuracy on Test set ==> \", gsearch9.score(X_test,y_test))"
   ]
  },
  {
   "cell_type": "code",
   "execution_count": 27,
   "id": "fd88cc0d",
   "metadata": {
    "execution": {
     "iopub.execute_input": "2022-04-10T04:36:11.872948Z",
     "iopub.status.busy": "2022-04-10T04:36:11.872105Z",
     "iopub.status.idle": "2022-04-10T04:36:13.330364Z",
     "shell.execute_reply": "2022-04-10T04:36:13.331321Z",
     "shell.execute_reply.started": "2022-04-10T03:52:13.023262Z"
    },
    "papermill": {
     "duration": 1.910133,
     "end_time": "2022-04-10T04:36:13.331565",
     "exception": false,
     "start_time": "2022-04-10T04:36:11.421432",
     "status": "completed"
    },
    "tags": []
   },
   "outputs": [
    {
     "name": "stdout",
     "output_type": "stream",
     "text": [
      "[0]\tvalidation_0-auc:0.84252\n",
      "[1]\tvalidation_0-auc:0.87965\n",
      "[2]\tvalidation_0-auc:0.88646\n",
      "[3]\tvalidation_0-auc:0.89822\n",
      "[4]\tvalidation_0-auc:0.89903\n",
      "[5]\tvalidation_0-auc:0.89874\n",
      "[6]\tvalidation_0-auc:0.89411\n",
      "[7]\tvalidation_0-auc:0.89520\n",
      "[8]\tvalidation_0-auc:0.89539\n",
      "[9]\tvalidation_0-auc:0.89662\n",
      "Tuned Paramerers ==>  {'scale_pos_weight': 6}\n",
      "Best Score ==>  0.9614003408666122\n",
      "Accuracy on Train set ==>  0.9727540500736377\n",
      "Accuracy on Test set ==>  0.8990266490266491\n"
     ]
    },
    {
     "name": "stderr",
     "output_type": "stream",
     "text": [
      "c:\\Users\\ykuch\\AppData\\Local\\Programs\\Python\\Python310\\lib\\site-packages\\xgboost\\sklearn.py:793: UserWarning: `early_stopping_rounds` in `fit` method is deprecated for better compatibility with scikit-learn, use `early_stopping_rounds` in constructor or`set_params` instead.\n",
      "  warnings.warn(\n"
     ]
    }
   ],
   "source": [
    "param_test10 = {\n",
    " 'scale_pos_weight':range(1,8,1)\n",
    "}\n",
    "gsearch10 = GridSearchCV(estimator=XGBClassifier(learning_rate =0.06,\n",
    "                                                n_estimators=100,\n",
    "                                                max_depth=5,\n",
    "                                                min_child_weight=6,\n",
    "                                                gamma=0.06,\n",
    "                                                subsample=0.75,\n",
    "                                                colsample_bytree=0.8,\n",
    "                                                reg_alpha= 0.1,\n",
    "                                                objective= 'binary:logistic',\n",
    "                                                nthread=4,\n",
    "                                                scale_pos_weight=1,\n",
    "                                                seed=27,\n",
    "                                                use_label_encoder=False,  \n",
    "                                                eval_metric='auc'),\n",
    "                        param_grid = param_test10, \n",
    "                        scoring='roc_auc',\n",
    "                        n_jobs=4,\n",
    "                        cv=5)\n",
    "eval_set = [(X_test, y_test)]\n",
    "gsearch10.fit(X_train_1, y_train_1,early_stopping_rounds=5,eval_set=eval_set)\n",
    "print(\"Tuned Paramerers ==> \",gsearch10.best_params_)\n",
    "print(\"Best Score ==> \",gsearch10.best_score_)\n",
    "print(\"Accuracy on Train set ==> \", gsearch10.score(X_train_1,y_train_1))\n",
    "print(\"Accuracy on Test set ==> \", gsearch10.score(X_test,y_test))"
   ]
  },
  {
   "cell_type": "code",
   "execution_count": 28,
   "id": "ba74d4bd",
   "metadata": {
    "execution": {
     "iopub.execute_input": "2022-04-10T04:36:14.265525Z",
     "iopub.status.busy": "2022-04-10T04:36:14.262363Z",
     "iopub.status.idle": "2022-04-10T04:36:14.330883Z",
     "shell.execute_reply": "2022-04-10T04:36:14.331592Z",
     "shell.execute_reply.started": "2022-04-10T03:52:14.530076Z"
    },
    "papermill": {
     "duration": 0.531422,
     "end_time": "2022-04-10T04:36:14.331786",
     "exception": false,
     "start_time": "2022-04-10T04:36:13.800364",
     "status": "completed"
    },
    "tags": []
   },
   "outputs": [
    {
     "name": "stdout",
     "output_type": "stream",
     "text": [
      "[0]\tvalidation_0-auc:0.85631\n",
      "[1]\tvalidation_0-auc:0.89321\n",
      "[2]\tvalidation_0-auc:0.90073\n",
      "[3]\tvalidation_0-auc:0.90994\n",
      "[4]\tvalidation_0-auc:0.90281\n",
      "[5]\tvalidation_0-auc:0.90734\n",
      "[6]\tvalidation_0-auc:0.90106\n",
      "[7]\tvalidation_0-auc:0.90077\n",
      "\n",
      "Model Report\n",
      "Accuracy (Train): 91.11 %\n",
      "Accuracy (Test): 84.33 %\n",
      "AUC Score (Train): 97.53 %\n",
      "AUC Score (Test): 90.99 %\n"
     ]
    },
    {
     "name": "stderr",
     "output_type": "stream",
     "text": [
      "c:\\Users\\ykuch\\AppData\\Local\\Programs\\Python\\Python310\\lib\\site-packages\\xgboost\\sklearn.py:793: UserWarning: `early_stopping_rounds` in `fit` method is deprecated for better compatibility with scikit-learn, use `early_stopping_rounds` in constructor or`set_params` instead.\n",
      "  warnings.warn(\n"
     ]
    }
   ],
   "source": [
    "xgb =XGBClassifier(learning_rate =0.1,\n",
    "                   n_estimators=100,\n",
    "                   max_depth=5,\n",
    "                   min_child_weight=6,\n",
    "                   gamma=0.06,\n",
    "                   subsample=0.75,\n",
    "                   colsample_bytree=0.8,\n",
    "                   objective= 'binary:logistic',\n",
    "                   nthread=4,\n",
    "                   scale_pos_weight=1,\n",
    "                   seed=27,\n",
    "                   use_label_encoder=False,  \n",
    "                   eval_metric='auc')\n",
    "xgb.fit(X_train_1, y_train_1,early_stopping_rounds=5,eval_set=eval_set)\n",
    "\n",
    "print(\"\\nModel Report\")\n",
    "y_predsx = xgb.predict(X_test)\n",
    "y_predx_proba = xgb.predict_proba(X_test)[:,1]\n",
    "\n",
    "y_predsx1 = xgb.predict(X_train_1)\n",
    "y_predx_proba1 = xgb.predict_proba(X_train_1)[:,1]\n",
    "\n",
    "print('Accuracy (Train):', round(metrics.accuracy_score(y_train_1, y_predsx1) * 100,2),'%')\n",
    "print('Accuracy (Test):', round(metrics.accuracy_score(y_test, y_predsx) * 100,2),'%')\n",
    "print('AUC Score (Train):', round(metrics.roc_auc_score(y_train_1, y_predx_proba1) * 100,2),'%')\n",
    "print('AUC Score (Test):', round(metrics.roc_auc_score(y_test, y_predx_proba) * 100,2),'%')"
   ]
  },
  {
   "cell_type": "markdown",
   "id": "2cb6c110",
   "metadata": {
    "papermill": {
     "duration": 0.473088,
     "end_time": "2022-04-10T04:36:15.283932",
     "exception": false,
     "start_time": "2022-04-10T04:36:14.810844",
     "status": "completed"
    },
    "tags": []
   },
   "source": [
    "# Optuna"
   ]
  },
  {
   "cell_type": "markdown",
   "id": "4a27f29f",
   "metadata": {},
   "source": [
    "## Оптимізовуємо модель"
   ]
  },
  {
   "cell_type": "code",
   "execution_count": 29,
   "id": "68204f47",
   "metadata": {
    "execution": {
     "iopub.execute_input": "2022-04-10T04:36:16.537832Z",
     "iopub.status.busy": "2022-04-10T04:36:16.536781Z",
     "iopub.status.idle": "2022-04-10T04:36:16.540021Z",
     "shell.execute_reply": "2022-04-10T04:36:16.539463Z",
     "shell.execute_reply.started": "2022-04-10T03:58:59.214733Z"
    },
    "papermill": {
     "duration": 0.501193,
     "end_time": "2022-04-10T04:36:16.540174",
     "exception": false,
     "start_time": "2022-04-10T04:36:16.038981",
     "status": "completed"
    },
    "tags": []
   },
   "outputs": [
    {
     "name": "stderr",
     "output_type": "stream",
     "text": [
      "c:\\Users\\ykuch\\AppData\\Local\\Programs\\Python\\Python310\\lib\\site-packages\\tqdm\\auto.py:22: TqdmWarning: IProgress not found. Please update jupyter and ipywidgets. See https://ipywidgets.readthedocs.io/en/stable/user_install.html\n",
      "  from .autonotebook import tqdm as notebook_tqdm\n"
     ]
    }
   ],
   "source": [
    "import optuna"
   ]
  },
  {
   "cell_type": "code",
   "execution_count": 30,
   "id": "8c5b96f0",
   "metadata": {
    "execution": {
     "iopub.execute_input": "2022-04-10T04:36:17.490059Z",
     "iopub.status.busy": "2022-04-10T04:36:17.489279Z",
     "iopub.status.idle": "2022-04-10T04:36:17.493326Z",
     "shell.execute_reply": "2022-04-10T04:36:17.492698Z",
     "shell.execute_reply.started": "2022-04-10T04:27:10.734481Z"
    },
    "papermill": {
     "duration": 0.491111,
     "end_time": "2022-04-10T04:36:17.493452",
     "exception": false,
     "start_time": "2022-04-10T04:36:17.002341",
     "status": "completed"
    },
    "tags": []
   },
   "outputs": [],
   "source": [
    "def objective(trial):\n",
    "    \n",
    "    param_opt = {\n",
    "        'tree_method':'gpu_hist',  # this parameter means using the GPU when training our model to speedup the training process\n",
    "        'reg_lambda': trial.suggest_loguniform('reg_lambda', 0.0001, 10.0),\n",
    "        'gamma': trial.suggest_loguniform('gamma', 0.0001, 1.0),\n",
    "        'alpha': trial.suggest_loguniform('alpha', 0.0001, 10.0),\n",
    "        'learning_rate': trial.suggest_loguniform('learning_rate', 0.0001, 1.0),\n",
    "        'colsample_bytree': trial.suggest_loguniform('colsample_bytree', 1e-3, 1.0),\n",
    "        'subsample': trial.suggest_loguniform('subsample', 1e-3, 1.0),\n",
    "        'n_estimators' : trial.suggest_int('n_estimators', 2, 5000),\n",
    "        'max_depth' : trial.suggest_int('max_depth', 2,11),\n",
    "        'min_child_weight': trial.suggest_int('min_child_weight', 1, 300),\n",
    "    }\n",
    "    model = XGBClassifier(**param_opt,\n",
    "                          use_label_encoder=False,  \n",
    "                          eval_metric='auc')  \n",
    "    \n",
    "    model.fit(X_train_1,y_train_1,eval_set=[(X_test,y_test)],early_stopping_rounds=100,verbose=False)\n",
    "    \n",
    "    preds = model.predict(X_test)\n",
    "    \n",
    "    rmse = metrics.mean_squared_error(y_test, preds,squared=False)\n",
    "    \n",
    "    return rmse"
   ]
  },
  {
   "cell_type": "code",
   "execution_count": 31,
   "id": "891469b8",
   "metadata": {
    "execution": {
     "iopub.execute_input": "2022-04-10T04:38:40.049441Z",
     "iopub.status.busy": "2022-04-10T04:38:40.048553Z",
     "iopub.status.idle": "2022-04-10T04:38:40.319162Z",
     "shell.execute_reply": "2022-04-10T04:38:40.318208Z",
     "shell.execute_reply.started": "2022-04-10T04:32:51.403167Z"
    },
    "papermill": {
     "duration": 0.95443,
     "end_time": "2022-04-10T04:38:40.319351",
     "exception": false,
     "start_time": "2022-04-10T04:38:39.364921",
     "status": "completed"
    },
    "tags": []
   },
   "outputs": [
    {
     "name": "stdout",
     "output_type": "stream",
     "text": [
      "\n",
      "Model Report\n",
      "Accuracy (Train): 96.01 %\n",
      "Accuracy (Test): 78.34 %\n",
      "AUC Score (Train): 99.29 %\n",
      "AUC Score (Test): 87.71 %\n"
     ]
    }
   ],
   "source": [
    "xgbo =XGBClassifier(reg_lambda = 0.6083218264746052, \n",
    "                    gamma = 0.32053291645882975,\n",
    "                    alpha= 0.07560553155609716, \n",
    "                    colsample_bytree= 0.009167517288777674, \n",
    "                    subsample= 0.5788156381210019, \n",
    "                    learning_rate= 0.35791054440702436, \n",
    "                    n_estimators= 790, \n",
    "                    max_depth= 5, \n",
    "                    min_child_weight= 6,\n",
    "                    use_label_encoder=False,  \n",
    "                    eval_metric='auc')\n",
    "eval_set=[X_test,y_test]\n",
    "#xgbo.fit(X_train_1, y_train_1,early_stopping_rounds=5,eval_set=eval_set)\n",
    "\n",
    "xgbo.fit(X_train_1, y_train_1)\n",
    "\n",
    "print(\"\\nModel Report\")\n",
    "y_predsx = xgbo.predict(X_test)\n",
    "y_predx_proba = xgbo.predict_proba(X_test)[:,1]\n",
    "\n",
    "y_predsx1 = xgbo.predict(X_train_1)\n",
    "y_predx_proba1 = xgbo.predict_proba(X_train_1)[:,1]\n",
    "\n",
    "print('Accuracy (Train):', round(metrics.accuracy_score(y_train_1, y_predsx1) * 100,2),'%')\n",
    "print('Accuracy (Test):', round(metrics.accuracy_score(y_test, y_predsx) * 100,2),'%')\n",
    "print('AUC Score (Train):', round(metrics.roc_auc_score(y_train_1, y_predx_proba1) * 100,2),'%')\n",
    "print('AUC Score (Test):', round(metrics.roc_auc_score(y_test, y_predx_proba) * 100,2),'%')"
   ]
  }
 ],
 "metadata": {
  "kernelspec": {
   "display_name": "Python 3.10.4 64-bit",
   "language": "python",
   "name": "python3"
  },
  "language_info": {
   "codemirror_mode": {
    "name": "ipython",
    "version": 3
   },
   "file_extension": ".py",
   "mimetype": "text/x-python",
   "name": "python",
   "nbconvert_exporter": "python",
   "pygments_lexer": "ipython3",
   "version": "3.10.4"
  },
  "papermill": {
   "default_parameters": {},
   "duration": 335.467867,
   "end_time": "2022-04-10T04:38:45.189328",
   "environment_variables": {},
   "exception": null,
   "input_path": "__notebook__.ipynb",
   "output_path": "__notebook__.ipynb",
   "parameters": {},
   "start_time": "2022-04-10T04:33:09.721461",
   "version": "2.3.3"
  },
  "vscode": {
   "interpreter": {
    "hash": "75907eb7c6675f3aa49ecda94dad620a0ecb7378d7f042aca95c7021d0a54c3c"
   }
  }
 },
 "nbformat": 4,
 "nbformat_minor": 5
}
